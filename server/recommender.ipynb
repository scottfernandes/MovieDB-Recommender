{
 "cells": [
  {
   "cell_type": "code",
   "execution_count": 4,
   "id": "91bfdac5",
   "metadata": {},
   "outputs": [],
   "source": [
    "import pandas as pd\n",
    "import numpy as np\n",
    "from sklearn.metrics.pairwise import cosine_similarity\n",
    "import requests\n",
    "from bs4 import BeautifulSoup\n",
    "import pickle"
   ]
  },
  {
   "cell_type": "code",
   "execution_count": 5,
   "id": "d80f4f14",
   "metadata": {},
   "outputs": [],
   "source": [
    "sentiment = pickle.load(open('nlp.pkl','rb'))\n",
    "vectorizer = pickle.load(open('transform.pkl','rb'))"
   ]
  },
  {
   "cell_type": "code",
   "execution_count": 6,
   "id": "035da75c",
   "metadata": {},
   "outputs": [],
   "source": [
    "df = pd.read_csv('TMDB_Final.csv')"
   ]
  },
  {
   "cell_type": "code",
   "execution_count": 56,
   "id": "23dc38d2",
   "metadata": {},
   "outputs": [
    {
     "data": {
      "text/html": [
       "<div>\n",
       "<style scoped>\n",
       "    .dataframe tbody tr th:only-of-type {\n",
       "        vertical-align: middle;\n",
       "    }\n",
       "\n",
       "    .dataframe tbody tr th {\n",
       "        vertical-align: top;\n",
       "    }\n",
       "\n",
       "    .dataframe thead th {\n",
       "        text-align: right;\n",
       "    }\n",
       "</style>\n",
       "<table border=\"1\" class=\"dataframe\">\n",
       "  <thead>\n",
       "    <tr style=\"text-align: right;\">\n",
       "      <th></th>\n",
       "      <th>Unnamed: 0.1</th>\n",
       "      <th>Unnamed: 0</th>\n",
       "      <th>id</th>\n",
       "      <th>title</th>\n",
       "      <th>overview</th>\n",
       "      <th>popularity</th>\n",
       "      <th>vote_average</th>\n",
       "      <th>vote_count</th>\n",
       "      <th>release_date</th>\n",
       "      <th>keywords</th>\n",
       "      <th>genres</th>\n",
       "      <th>cast</th>\n",
       "      <th>crew</th>\n",
       "    </tr>\n",
       "  </thead>\n",
       "  <tbody>\n",
       "    <tr>\n",
       "      <th>2319</th>\n",
       "      <td>2319</td>\n",
       "      <td>2319</td>\n",
       "      <td>268</td>\n",
       "      <td>Batman (1989)</td>\n",
       "      <td>Batman must face his most ruthless nemesis whe...</td>\n",
       "      <td>53.219</td>\n",
       "      <td>7.2</td>\n",
       "      <td>5959</td>\n",
       "      <td>1989-06-23</td>\n",
       "      <td>['double life', 'dc comics', 'dual identity', ...</td>\n",
       "      <td>['Fantasy', 'Action']</td>\n",
       "      <td>['Michael Keaton', 'Jack Nicholson', 'Kim Basi...</td>\n",
       "      <td>['Tim Burton']</td>\n",
       "    </tr>\n",
       "  </tbody>\n",
       "</table>\n",
       "</div>"
      ],
      "text/plain": [
       "      Unnamed: 0.1  Unnamed: 0   id          title  \\\n",
       "2319          2319        2319  268  Batman (1989)   \n",
       "\n",
       "                                               overview  popularity  \\\n",
       "2319  Batman must face his most ruthless nemesis whe...      53.219   \n",
       "\n",
       "      vote_average  vote_count release_date  \\\n",
       "2319           7.2        5959   1989-06-23   \n",
       "\n",
       "                                               keywords  \\\n",
       "2319  ['double life', 'dc comics', 'dual identity', ...   \n",
       "\n",
       "                     genres  \\\n",
       "2319  ['Fantasy', 'Action']   \n",
       "\n",
       "                                                   cast            crew  \n",
       "2319  ['Michael Keaton', 'Jack Nicholson', 'Kim Basi...  ['Tim Burton']  "
      ]
     },
     "execution_count": 56,
     "metadata": {},
     "output_type": "execute_result"
    }
   ],
   "source": [
    "df[df['title']=='Batman (1989)']"
   ]
  },
  {
   "cell_type": "code",
   "execution_count": 8,
   "id": "e33e265c",
   "metadata": {},
   "outputs": [],
   "source": [
    "main_features = df[['id','title','genres','overview','crew','keywords','cast','vote_average']]"
   ]
  },
  {
   "cell_type": "code",
   "execution_count": 9,
   "id": "6265702a",
   "metadata": {},
   "outputs": [],
   "source": [
    "main_features_copy = main_features.copy()\n",
    "main_features_copy.dropna(inplace=True)"
   ]
  },
  {
   "cell_type": "code",
   "execution_count": 10,
   "id": "ec9ecbc7",
   "metadata": {},
   "outputs": [
    {
     "data": {
      "text/plain": [
       "2"
      ]
     },
     "execution_count": 10,
     "metadata": {},
     "output_type": "execute_result"
    }
   ],
   "source": [
    "main_features_copy['title'].duplicated().sum()"
   ]
  },
  {
   "cell_type": "code",
   "execution_count": 11,
   "id": "86d28a2a",
   "metadata": {},
   "outputs": [],
   "source": [
    "main_features_copy['genres']=main_features_copy['genres'].apply(lambda x : x.replace('Science Fiction','Sci-Fi'))"
   ]
  },
  {
   "cell_type": "code",
   "execution_count": 12,
   "id": "8e3ef59f",
   "metadata": {},
   "outputs": [],
   "source": [
    "main_features_copy['genres']=main_features_copy['genres'].apply(lambda x:x.replace(\"'\",'').replace(\" \",'').strip('[]'))\n",
    "main_features_copy['cast']=main_features_copy['cast'].apply(lambda x:x.replace(\"'\",'').replace(\" \",'').strip('[]'))\n",
    "main_features_copy['keywords']=main_features_copy['keywords'].apply(lambda x:x.replace(\"'\",'').replace(\" \",'').strip('[]'))   "
   ]
  },
  {
   "cell_type": "code",
   "execution_count": 13,
   "id": "b7538bca",
   "metadata": {},
   "outputs": [],
   "source": [
    "cast = main_features_copy['cast']"
   ]
  },
  {
   "cell_type": "code",
   "execution_count": 14,
   "id": "50a5e1f4",
   "metadata": {},
   "outputs": [
    {
     "data": {
      "text/plain": [
       "'ShahRukhKhan,Kajol,AmrishPuri,AnupamKher,SatishShah,FaridaJalal,AchalaSachdev'"
      ]
     },
     "execution_count": 14,
     "metadata": {},
     "output_type": "execute_result"
    }
   ],
   "source": [
    "cast[0]"
   ]
  },
  {
   "cell_type": "code",
   "execution_count": 15,
   "id": "46d3495a",
   "metadata": {},
   "outputs": [
    {
     "data": {
      "text/plain": [
       "'TimRobbins,MorganFreeman,BobGunton,WilliamSadler,ClancyBrown,GilBellows,MarkRolston'"
      ]
     },
     "execution_count": 15,
     "metadata": {},
     "output_type": "execute_result"
    }
   ],
   "source": [
    "cast[1]"
   ]
  },
  {
   "cell_type": "code",
   "execution_count": 16,
   "id": "cf696986",
   "metadata": {},
   "outputs": [
    {
     "data": {
      "text/html": [
       "<div>\n",
       "<style scoped>\n",
       "    .dataframe tbody tr th:only-of-type {\n",
       "        vertical-align: middle;\n",
       "    }\n",
       "\n",
       "    .dataframe tbody tr th {\n",
       "        vertical-align: top;\n",
       "    }\n",
       "\n",
       "    .dataframe thead th {\n",
       "        text-align: right;\n",
       "    }\n",
       "</style>\n",
       "<table border=\"1\" class=\"dataframe\">\n",
       "  <thead>\n",
       "    <tr style=\"text-align: right;\">\n",
       "      <th></th>\n",
       "      <th>id</th>\n",
       "      <th>title</th>\n",
       "      <th>genres</th>\n",
       "      <th>overview</th>\n",
       "      <th>crew</th>\n",
       "      <th>keywords</th>\n",
       "      <th>cast</th>\n",
       "      <th>vote_average</th>\n",
       "    </tr>\n",
       "  </thead>\n",
       "  <tbody>\n",
       "    <tr>\n",
       "      <th>0</th>\n",
       "      <td>19404</td>\n",
       "      <td>Dilwale Dulhania Le Jayenge</td>\n",
       "      <td>Comedy,Drama,Romance</td>\n",
       "      <td>Raj is a rich, carefree, happy-go-lucky second...</td>\n",
       "      <td>['Aditya Chopra']</td>\n",
       "      <td></td>\n",
       "      <td>ShahRukhKhan,Kajol,AmrishPuri,AnupamKher,Satis...</td>\n",
       "      <td>8.7</td>\n",
       "    </tr>\n",
       "    <tr>\n",
       "      <th>1</th>\n",
       "      <td>278</td>\n",
       "      <td>The Shawshank Redemption</td>\n",
       "      <td>Drama,Crime</td>\n",
       "      <td>Framed in the 1940s for the double murder of h...</td>\n",
       "      <td>['Frank Darabont']</td>\n",
       "      <td>prison,corruption,policebrutality,prisoncell,d...</td>\n",
       "      <td>TimRobbins,MorganFreeman,BobGunton,WilliamSadl...</td>\n",
       "      <td>8.7</td>\n",
       "    </tr>\n",
       "    <tr>\n",
       "      <th>2</th>\n",
       "      <td>238</td>\n",
       "      <td>The Godfather</td>\n",
       "      <td>Drama,Crime</td>\n",
       "      <td>Spanning the years 1945 to 1955, a chronicle o...</td>\n",
       "      <td>['Francis Ford Coppola']</td>\n",
       "      <td>italy,lossoflovedone,loveatfirstsight,italiana...</td>\n",
       "      <td>MarlonBrando,AlPacino,JamesCaan,RobertDuvall,R...</td>\n",
       "      <td>8.7</td>\n",
       "    </tr>\n",
       "    <tr>\n",
       "      <th>3</th>\n",
       "      <td>724089</td>\n",
       "      <td>Gabriel's Inferno Part II</td>\n",
       "      <td>Romance</td>\n",
       "      <td>Professor Gabriel Emerson finally learns the t...</td>\n",
       "      <td>['Tosca Musk']</td>\n",
       "      <td>basedonnovelorbook</td>\n",
       "      <td>MelanieZanetti,GiulioBerruti,JamesAndrewFraser...</td>\n",
       "      <td>8.6</td>\n",
       "    </tr>\n",
       "    <tr>\n",
       "      <th>4</th>\n",
       "      <td>424</td>\n",
       "      <td>Schindler's List</td>\n",
       "      <td>Drama,History,War</td>\n",
       "      <td>The true story of how businessman Oskar Schind...</td>\n",
       "      <td>['Steven Spielberg']</td>\n",
       "      <td>basedonnovelorbook,factory,concentrationcamp,h...</td>\n",
       "      <td>LiamNeeson,BenKingsley,RalphFiennes,CarolineGo...</td>\n",
       "      <td>8.6</td>\n",
       "    </tr>\n",
       "    <tr>\n",
       "      <th>...</th>\n",
       "      <td>...</td>\n",
       "      <td>...</td>\n",
       "      <td>...</td>\n",
       "      <td>...</td>\n",
       "      <td>...</td>\n",
       "      <td>...</td>\n",
       "      <td>...</td>\n",
       "      <td>...</td>\n",
       "    </tr>\n",
       "    <tr>\n",
       "      <th>9475</th>\n",
       "      <td>21435</td>\n",
       "      <td>French Fried Vacation 3</td>\n",
       "      <td>Comedy</td>\n",
       "      <td>After the Club Med and skiing, what happened t...</td>\n",
       "      <td>['Patrice Leconte']</td>\n",
       "      <td>holiday,sardinia,italy,sequel,reunion,luxuryhotel</td>\n",
       "      <td>JosianeBalasko,MichelBlanc,Marie-AnneChazel,Ch...</td>\n",
       "      <td>4.1</td>\n",
       "    </tr>\n",
       "    <tr>\n",
       "      <th>9476</th>\n",
       "      <td>17711</td>\n",
       "      <td>The Adventures of Rocky &amp; Bullwinkle</td>\n",
       "      <td>Family,Adventure,Animation,Comedy,Fantasy</td>\n",
       "      <td>Rocky and Bullwinkle have been living off the ...</td>\n",
       "      <td>['Des McAnuff']</td>\n",
       "      <td>helicopter,police,cartoon,roadtrip,carcrash,ja...</td>\n",
       "      <td>ReneRusso,JasonAlexander,PiperPerabo,RandyQuai...</td>\n",
       "      <td>4.1</td>\n",
       "    </tr>\n",
       "    <tr>\n",
       "      <th>9477</th>\n",
       "      <td>17532</td>\n",
       "      <td>S. Darko</td>\n",
       "      <td>Thriller,Crime,Sci-Fi,Mystery</td>\n",
       "      <td>S. Darko follows Samantha Darko, the younger s...</td>\n",
       "      <td>['Chris Fisher']</td>\n",
       "      <td>sequel,stranded,endoftheworld,shatteredhome,bi...</td>\n",
       "      <td>DaveighChase,ElizabethBerkley,BrianaEvigan,Jam...</td>\n",
       "      <td>4.1</td>\n",
       "    </tr>\n",
       "    <tr>\n",
       "      <th>9478</th>\n",
       "      <td>13908</td>\n",
       "      <td>The Master of Disguise</td>\n",
       "      <td>Comedy,Family</td>\n",
       "      <td>A sweet-natured Italian waiter named Pistachio...</td>\n",
       "      <td>['Perry Andelin Blake']</td>\n",
       "      <td>disguise,aftercreditsstinger,duringcreditsstinger</td>\n",
       "      <td>DanaCarvey,BrentSpiner,JenniferEsposito,Harold...</td>\n",
       "      <td>4.0</td>\n",
       "    </tr>\n",
       "    <tr>\n",
       "      <th>9479</th>\n",
       "      <td>580</td>\n",
       "      <td>Jaws: The Revenge</td>\n",
       "      <td>Adventure,Thriller,Horror</td>\n",
       "      <td>After another deadly shark attack, Ellen Brody...</td>\n",
       "      <td>['Joseph Sargent']</td>\n",
       "      <td>sharkattack,bahamas,dyinganddeath,animalattack...</td>\n",
       "      <td>LorraineGary,LanceGuest,MarioVanPeebles,Michae...</td>\n",
       "      <td>4.0</td>\n",
       "    </tr>\n",
       "  </tbody>\n",
       "</table>\n",
       "<p>9464 rows × 8 columns</p>\n",
       "</div>"
      ],
      "text/plain": [
       "          id                                 title  \\\n",
       "0      19404           Dilwale Dulhania Le Jayenge   \n",
       "1        278              The Shawshank Redemption   \n",
       "2        238                         The Godfather   \n",
       "3     724089             Gabriel's Inferno Part II   \n",
       "4        424                      Schindler's List   \n",
       "...      ...                                   ...   \n",
       "9475   21435               French Fried Vacation 3   \n",
       "9476   17711  The Adventures of Rocky & Bullwinkle   \n",
       "9477   17532                              S. Darko   \n",
       "9478   13908                The Master of Disguise   \n",
       "9479     580                     Jaws: The Revenge   \n",
       "\n",
       "                                         genres  \\\n",
       "0                          Comedy,Drama,Romance   \n",
       "1                                   Drama,Crime   \n",
       "2                                   Drama,Crime   \n",
       "3                                       Romance   \n",
       "4                             Drama,History,War   \n",
       "...                                         ...   \n",
       "9475                                     Comedy   \n",
       "9476  Family,Adventure,Animation,Comedy,Fantasy   \n",
       "9477              Thriller,Crime,Sci-Fi,Mystery   \n",
       "9478                              Comedy,Family   \n",
       "9479                  Adventure,Thriller,Horror   \n",
       "\n",
       "                                               overview  \\\n",
       "0     Raj is a rich, carefree, happy-go-lucky second...   \n",
       "1     Framed in the 1940s for the double murder of h...   \n",
       "2     Spanning the years 1945 to 1955, a chronicle o...   \n",
       "3     Professor Gabriel Emerson finally learns the t...   \n",
       "4     The true story of how businessman Oskar Schind...   \n",
       "...                                                 ...   \n",
       "9475  After the Club Med and skiing, what happened t...   \n",
       "9476  Rocky and Bullwinkle have been living off the ...   \n",
       "9477  S. Darko follows Samantha Darko, the younger s...   \n",
       "9478  A sweet-natured Italian waiter named Pistachio...   \n",
       "9479  After another deadly shark attack, Ellen Brody...   \n",
       "\n",
       "                          crew  \\\n",
       "0            ['Aditya Chopra']   \n",
       "1           ['Frank Darabont']   \n",
       "2     ['Francis Ford Coppola']   \n",
       "3               ['Tosca Musk']   \n",
       "4         ['Steven Spielberg']   \n",
       "...                        ...   \n",
       "9475       ['Patrice Leconte']   \n",
       "9476           ['Des McAnuff']   \n",
       "9477          ['Chris Fisher']   \n",
       "9478   ['Perry Andelin Blake']   \n",
       "9479        ['Joseph Sargent']   \n",
       "\n",
       "                                               keywords  \\\n",
       "0                                                         \n",
       "1     prison,corruption,policebrutality,prisoncell,d...   \n",
       "2     italy,lossoflovedone,loveatfirstsight,italiana...   \n",
       "3                                    basedonnovelorbook   \n",
       "4     basedonnovelorbook,factory,concentrationcamp,h...   \n",
       "...                                                 ...   \n",
       "9475  holiday,sardinia,italy,sequel,reunion,luxuryhotel   \n",
       "9476  helicopter,police,cartoon,roadtrip,carcrash,ja...   \n",
       "9477  sequel,stranded,endoftheworld,shatteredhome,bi...   \n",
       "9478  disguise,aftercreditsstinger,duringcreditsstinger   \n",
       "9479  sharkattack,bahamas,dyinganddeath,animalattack...   \n",
       "\n",
       "                                                   cast  vote_average  \n",
       "0     ShahRukhKhan,Kajol,AmrishPuri,AnupamKher,Satis...           8.7  \n",
       "1     TimRobbins,MorganFreeman,BobGunton,WilliamSadl...           8.7  \n",
       "2     MarlonBrando,AlPacino,JamesCaan,RobertDuvall,R...           8.7  \n",
       "3     MelanieZanetti,GiulioBerruti,JamesAndrewFraser...           8.6  \n",
       "4     LiamNeeson,BenKingsley,RalphFiennes,CarolineGo...           8.6  \n",
       "...                                                 ...           ...  \n",
       "9475  JosianeBalasko,MichelBlanc,Marie-AnneChazel,Ch...           4.1  \n",
       "9476  ReneRusso,JasonAlexander,PiperPerabo,RandyQuai...           4.1  \n",
       "9477  DaveighChase,ElizabethBerkley,BrianaEvigan,Jam...           4.1  \n",
       "9478  DanaCarvey,BrentSpiner,JenniferEsposito,Harold...           4.0  \n",
       "9479  LorraineGary,LanceGuest,MarioVanPeebles,Michae...           4.0  \n",
       "\n",
       "[9464 rows x 8 columns]"
      ]
     },
     "execution_count": 16,
     "metadata": {},
     "output_type": "execute_result"
    }
   ],
   "source": [
    "main_features_copy"
   ]
  },
  {
   "cell_type": "code",
   "execution_count": 17,
   "id": "88151875",
   "metadata": {},
   "outputs": [],
   "source": [
    "main_features_copy['cast']=main_features_copy['cast'].apply(lambda x:x.strip('[]'))\n",
    "main_features_copy['genres']=main_features_copy['genres'].apply(lambda x:x.strip('[]'))\n",
    "main_features_copy['keywords']=main_features_copy['keywords'].apply(lambda x:x.strip('[]'))"
   ]
  },
  {
   "cell_type": "code",
   "execution_count": 18,
   "id": "f5526fe8",
   "metadata": {},
   "outputs": [
    {
     "data": {
      "text/html": [
       "<div>\n",
       "<style scoped>\n",
       "    .dataframe tbody tr th:only-of-type {\n",
       "        vertical-align: middle;\n",
       "    }\n",
       "\n",
       "    .dataframe tbody tr th {\n",
       "        vertical-align: top;\n",
       "    }\n",
       "\n",
       "    .dataframe thead th {\n",
       "        text-align: right;\n",
       "    }\n",
       "</style>\n",
       "<table border=\"1\" class=\"dataframe\">\n",
       "  <thead>\n",
       "    <tr style=\"text-align: right;\">\n",
       "      <th></th>\n",
       "      <th>id</th>\n",
       "      <th>title</th>\n",
       "      <th>genres</th>\n",
       "      <th>overview</th>\n",
       "      <th>crew</th>\n",
       "      <th>keywords</th>\n",
       "      <th>cast</th>\n",
       "      <th>vote_average</th>\n",
       "    </tr>\n",
       "  </thead>\n",
       "  <tbody>\n",
       "    <tr>\n",
       "      <th>0</th>\n",
       "      <td>19404</td>\n",
       "      <td>Dilwale Dulhania Le Jayenge</td>\n",
       "      <td>Comedy,Drama,Romance</td>\n",
       "      <td>Raj is a rich, carefree, happy-go-lucky second...</td>\n",
       "      <td>['Aditya Chopra']</td>\n",
       "      <td></td>\n",
       "      <td>ShahRukhKhan,Kajol,AmrishPuri,AnupamKher,Satis...</td>\n",
       "      <td>8.7</td>\n",
       "    </tr>\n",
       "    <tr>\n",
       "      <th>1</th>\n",
       "      <td>278</td>\n",
       "      <td>The Shawshank Redemption</td>\n",
       "      <td>Drama,Crime</td>\n",
       "      <td>Framed in the 1940s for the double murder of h...</td>\n",
       "      <td>['Frank Darabont']</td>\n",
       "      <td>prison,corruption,policebrutality,prisoncell,d...</td>\n",
       "      <td>TimRobbins,MorganFreeman,BobGunton,WilliamSadl...</td>\n",
       "      <td>8.7</td>\n",
       "    </tr>\n",
       "    <tr>\n",
       "      <th>2</th>\n",
       "      <td>238</td>\n",
       "      <td>The Godfather</td>\n",
       "      <td>Drama,Crime</td>\n",
       "      <td>Spanning the years 1945 to 1955, a chronicle o...</td>\n",
       "      <td>['Francis Ford Coppola']</td>\n",
       "      <td>italy,lossoflovedone,loveatfirstsight,italiana...</td>\n",
       "      <td>MarlonBrando,AlPacino,JamesCaan,RobertDuvall,R...</td>\n",
       "      <td>8.7</td>\n",
       "    </tr>\n",
       "    <tr>\n",
       "      <th>3</th>\n",
       "      <td>724089</td>\n",
       "      <td>Gabriel's Inferno Part II</td>\n",
       "      <td>Romance</td>\n",
       "      <td>Professor Gabriel Emerson finally learns the t...</td>\n",
       "      <td>['Tosca Musk']</td>\n",
       "      <td>basedonnovelorbook</td>\n",
       "      <td>MelanieZanetti,GiulioBerruti,JamesAndrewFraser...</td>\n",
       "      <td>8.6</td>\n",
       "    </tr>\n",
       "    <tr>\n",
       "      <th>4</th>\n",
       "      <td>424</td>\n",
       "      <td>Schindler's List</td>\n",
       "      <td>Drama,History,War</td>\n",
       "      <td>The true story of how businessman Oskar Schind...</td>\n",
       "      <td>['Steven Spielberg']</td>\n",
       "      <td>basedonnovelorbook,factory,concentrationcamp,h...</td>\n",
       "      <td>LiamNeeson,BenKingsley,RalphFiennes,CarolineGo...</td>\n",
       "      <td>8.6</td>\n",
       "    </tr>\n",
       "    <tr>\n",
       "      <th>...</th>\n",
       "      <td>...</td>\n",
       "      <td>...</td>\n",
       "      <td>...</td>\n",
       "      <td>...</td>\n",
       "      <td>...</td>\n",
       "      <td>...</td>\n",
       "      <td>...</td>\n",
       "      <td>...</td>\n",
       "    </tr>\n",
       "    <tr>\n",
       "      <th>9475</th>\n",
       "      <td>21435</td>\n",
       "      <td>French Fried Vacation 3</td>\n",
       "      <td>Comedy</td>\n",
       "      <td>After the Club Med and skiing, what happened t...</td>\n",
       "      <td>['Patrice Leconte']</td>\n",
       "      <td>holiday,sardinia,italy,sequel,reunion,luxuryhotel</td>\n",
       "      <td>JosianeBalasko,MichelBlanc,Marie-AnneChazel,Ch...</td>\n",
       "      <td>4.1</td>\n",
       "    </tr>\n",
       "    <tr>\n",
       "      <th>9476</th>\n",
       "      <td>17711</td>\n",
       "      <td>The Adventures of Rocky &amp; Bullwinkle</td>\n",
       "      <td>Family,Adventure,Animation,Comedy,Fantasy</td>\n",
       "      <td>Rocky and Bullwinkle have been living off the ...</td>\n",
       "      <td>['Des McAnuff']</td>\n",
       "      <td>helicopter,police,cartoon,roadtrip,carcrash,ja...</td>\n",
       "      <td>ReneRusso,JasonAlexander,PiperPerabo,RandyQuai...</td>\n",
       "      <td>4.1</td>\n",
       "    </tr>\n",
       "    <tr>\n",
       "      <th>9477</th>\n",
       "      <td>17532</td>\n",
       "      <td>S. Darko</td>\n",
       "      <td>Thriller,Crime,Sci-Fi,Mystery</td>\n",
       "      <td>S. Darko follows Samantha Darko, the younger s...</td>\n",
       "      <td>['Chris Fisher']</td>\n",
       "      <td>sequel,stranded,endoftheworld,shatteredhome,bi...</td>\n",
       "      <td>DaveighChase,ElizabethBerkley,BrianaEvigan,Jam...</td>\n",
       "      <td>4.1</td>\n",
       "    </tr>\n",
       "    <tr>\n",
       "      <th>9478</th>\n",
       "      <td>13908</td>\n",
       "      <td>The Master of Disguise</td>\n",
       "      <td>Comedy,Family</td>\n",
       "      <td>A sweet-natured Italian waiter named Pistachio...</td>\n",
       "      <td>['Perry Andelin Blake']</td>\n",
       "      <td>disguise,aftercreditsstinger,duringcreditsstinger</td>\n",
       "      <td>DanaCarvey,BrentSpiner,JenniferEsposito,Harold...</td>\n",
       "      <td>4.0</td>\n",
       "    </tr>\n",
       "    <tr>\n",
       "      <th>9479</th>\n",
       "      <td>580</td>\n",
       "      <td>Jaws: The Revenge</td>\n",
       "      <td>Adventure,Thriller,Horror</td>\n",
       "      <td>After another deadly shark attack, Ellen Brody...</td>\n",
       "      <td>['Joseph Sargent']</td>\n",
       "      <td>sharkattack,bahamas,dyinganddeath,animalattack...</td>\n",
       "      <td>LorraineGary,LanceGuest,MarioVanPeebles,Michae...</td>\n",
       "      <td>4.0</td>\n",
       "    </tr>\n",
       "  </tbody>\n",
       "</table>\n",
       "<p>9464 rows × 8 columns</p>\n",
       "</div>"
      ],
      "text/plain": [
       "          id                                 title  \\\n",
       "0      19404           Dilwale Dulhania Le Jayenge   \n",
       "1        278              The Shawshank Redemption   \n",
       "2        238                         The Godfather   \n",
       "3     724089             Gabriel's Inferno Part II   \n",
       "4        424                      Schindler's List   \n",
       "...      ...                                   ...   \n",
       "9475   21435               French Fried Vacation 3   \n",
       "9476   17711  The Adventures of Rocky & Bullwinkle   \n",
       "9477   17532                              S. Darko   \n",
       "9478   13908                The Master of Disguise   \n",
       "9479     580                     Jaws: The Revenge   \n",
       "\n",
       "                                         genres  \\\n",
       "0                          Comedy,Drama,Romance   \n",
       "1                                   Drama,Crime   \n",
       "2                                   Drama,Crime   \n",
       "3                                       Romance   \n",
       "4                             Drama,History,War   \n",
       "...                                         ...   \n",
       "9475                                     Comedy   \n",
       "9476  Family,Adventure,Animation,Comedy,Fantasy   \n",
       "9477              Thriller,Crime,Sci-Fi,Mystery   \n",
       "9478                              Comedy,Family   \n",
       "9479                  Adventure,Thriller,Horror   \n",
       "\n",
       "                                               overview  \\\n",
       "0     Raj is a rich, carefree, happy-go-lucky second...   \n",
       "1     Framed in the 1940s for the double murder of h...   \n",
       "2     Spanning the years 1945 to 1955, a chronicle o...   \n",
       "3     Professor Gabriel Emerson finally learns the t...   \n",
       "4     The true story of how businessman Oskar Schind...   \n",
       "...                                                 ...   \n",
       "9475  After the Club Med and skiing, what happened t...   \n",
       "9476  Rocky and Bullwinkle have been living off the ...   \n",
       "9477  S. Darko follows Samantha Darko, the younger s...   \n",
       "9478  A sweet-natured Italian waiter named Pistachio...   \n",
       "9479  After another deadly shark attack, Ellen Brody...   \n",
       "\n",
       "                          crew  \\\n",
       "0            ['Aditya Chopra']   \n",
       "1           ['Frank Darabont']   \n",
       "2     ['Francis Ford Coppola']   \n",
       "3               ['Tosca Musk']   \n",
       "4         ['Steven Spielberg']   \n",
       "...                        ...   \n",
       "9475       ['Patrice Leconte']   \n",
       "9476           ['Des McAnuff']   \n",
       "9477          ['Chris Fisher']   \n",
       "9478   ['Perry Andelin Blake']   \n",
       "9479        ['Joseph Sargent']   \n",
       "\n",
       "                                               keywords  \\\n",
       "0                                                         \n",
       "1     prison,corruption,policebrutality,prisoncell,d...   \n",
       "2     italy,lossoflovedone,loveatfirstsight,italiana...   \n",
       "3                                    basedonnovelorbook   \n",
       "4     basedonnovelorbook,factory,concentrationcamp,h...   \n",
       "...                                                 ...   \n",
       "9475  holiday,sardinia,italy,sequel,reunion,luxuryhotel   \n",
       "9476  helicopter,police,cartoon,roadtrip,carcrash,ja...   \n",
       "9477  sequel,stranded,endoftheworld,shatteredhome,bi...   \n",
       "9478  disguise,aftercreditsstinger,duringcreditsstinger   \n",
       "9479  sharkattack,bahamas,dyinganddeath,animalattack...   \n",
       "\n",
       "                                                   cast  vote_average  \n",
       "0     ShahRukhKhan,Kajol,AmrishPuri,AnupamKher,Satis...           8.7  \n",
       "1     TimRobbins,MorganFreeman,BobGunton,WilliamSadl...           8.7  \n",
       "2     MarlonBrando,AlPacino,JamesCaan,RobertDuvall,R...           8.7  \n",
       "3     MelanieZanetti,GiulioBerruti,JamesAndrewFraser...           8.6  \n",
       "4     LiamNeeson,BenKingsley,RalphFiennes,CarolineGo...           8.6  \n",
       "...                                                 ...           ...  \n",
       "9475  JosianeBalasko,MichelBlanc,Marie-AnneChazel,Ch...           4.1  \n",
       "9476  ReneRusso,JasonAlexander,PiperPerabo,RandyQuai...           4.1  \n",
       "9477  DaveighChase,ElizabethBerkley,BrianaEvigan,Jam...           4.1  \n",
       "9478  DanaCarvey,BrentSpiner,JenniferEsposito,Harold...           4.0  \n",
       "9479  LorraineGary,LanceGuest,MarioVanPeebles,Michae...           4.0  \n",
       "\n",
       "[9464 rows x 8 columns]"
      ]
     },
     "execution_count": 18,
     "metadata": {},
     "output_type": "execute_result"
    }
   ],
   "source": [
    "main_features_copy"
   ]
  },
  {
   "cell_type": "code",
   "execution_count": 19,
   "id": "25612482",
   "metadata": {},
   "outputs": [],
   "source": [
    "main_features_copy['tags']=main_features_copy['overview'] + main_features_copy['genres'] + main_features_copy['keywords'] + main_features_copy['cast'] + main_features_copy['crew']"
   ]
  },
  {
   "cell_type": "code",
   "execution_count": 20,
   "id": "43e17721",
   "metadata": {},
   "outputs": [],
   "source": [
    "new_df = main_features_copy[['title','tags']]"
   ]
  },
  {
   "cell_type": "code",
   "execution_count": 21,
   "id": "d6ca966d",
   "metadata": {},
   "outputs": [],
   "source": [
    "new_df\n",
    "new_df_copy = new_df.copy()"
   ]
  },
  {
   "cell_type": "code",
   "execution_count": 22,
   "id": "62d6f93e",
   "metadata": {},
   "outputs": [],
   "source": [
    "from nltk import PorterStemmer\n",
    "ps = PorterStemmer()\n",
    "def stem(x):\n",
    "    if pd.notna(x):\n",
    "        L = []\n",
    "        for i in x.split():\n",
    "            L.append(ps.stem(i))\n",
    "        return \" \".join(L)\n",
    "    else:\n",
    "        return x "
   ]
  },
  {
   "cell_type": "code",
   "execution_count": 23,
   "id": "7e4befb7",
   "metadata": {},
   "outputs": [],
   "source": [
    "new_df_copy['tags'] = new_df_copy['tags'].apply(stem)"
   ]
  },
  {
   "cell_type": "code",
   "execution_count": 24,
   "id": "de72cf4e",
   "metadata": {},
   "outputs": [],
   "source": [
    "from sklearn.feature_extraction.text import CountVectorizer\n",
    "cv = CountVectorizer(max_features=5000, stop_words='english')"
   ]
  },
  {
   "cell_type": "code",
   "execution_count": 25,
   "id": "3f7e5cfb",
   "metadata": {},
   "outputs": [],
   "source": [
    "new_df_copy['tags'].fillna('', inplace=True)  "
   ]
  },
  {
   "cell_type": "code",
   "execution_count": 26,
   "id": "e40ee7eb",
   "metadata": {},
   "outputs": [],
   "source": [
    "vectors = cv.fit_transform(new_df_copy['tags']).toarray()\n"
   ]
  },
  {
   "cell_type": "code",
   "execution_count": 27,
   "id": "4f800787",
   "metadata": {},
   "outputs": [
    {
     "data": {
      "text/plain": [
       "array([[0, 0, 0, ..., 0, 0, 0],\n",
       "       [0, 0, 0, ..., 0, 0, 0],\n",
       "       [0, 0, 0, ..., 0, 0, 0],\n",
       "       ...,\n",
       "       [0, 0, 0, ..., 0, 0, 0],\n",
       "       [0, 0, 0, ..., 0, 0, 0],\n",
       "       [0, 0, 0, ..., 0, 0, 0]], dtype=int64)"
      ]
     },
     "execution_count": 27,
     "metadata": {},
     "output_type": "execute_result"
    }
   ],
   "source": [
    "vectors"
   ]
  },
  {
   "cell_type": "code",
   "execution_count": 28,
   "id": "add43e37",
   "metadata": {},
   "outputs": [],
   "source": [
    "similarity = cosine_similarity(vectors)"
   ]
  },
  {
   "cell_type": "code",
   "execution_count": 29,
   "id": "01515ea5",
   "metadata": {},
   "outputs": [],
   "source": [
    "sorted_sim = sorted(list(enumerate(similarity[0])),reverse=True,key = lambda x:x[1])[1:12]"
   ]
  },
  {
   "cell_type": "code",
   "execution_count": 33,
   "id": "17a29916",
   "metadata": {},
   "outputs": [],
   "source": [
    "API_KEY='75d6f4d358afd80023fc135735da8af5'\n"
   ]
  },
  {
   "cell_type": "code",
   "execution_count": 48,
   "id": "77190bef",
   "metadata": {},
   "outputs": [],
   "source": [
    "def get_movie_id(movie):\n",
    "    base_url = 'https://api.themoviedb.org/3/search/movie'\n",
    "    params = {\n",
    "        'api_key': API_KEY,\n",
    "        'query': movie\n",
    "    }\n",
    "    response = requests.get(base_url, params=params)\n",
    "    data = response.json()\n",
    "    if 'results' in data and data['results']:\n",
    "        movie_id = data['results'][0]['id']\n",
    "        return movie_id\n",
    "    else:\n",
    "        print(f\"No results found for '{movie}'\")\n"
   ]
  },
  {
   "cell_type": "code",
   "execution_count": 59,
   "id": "5ea4403d",
   "metadata": {},
   "outputs": [],
   "source": [
    "def get_movie_details(movie):\n",
    "    genre = (df.loc[df['title']==movie]).to_string(header=False,index=False,columns=['genres']).strip('[]').replace(\"'\",'')\n",
    "    print(genre)\n",
    "    overview = (df.loc[df['title']==movie]).to_string(header=False,index=False,columns=['overview']).replace(\",\",\"\")\n",
    "    overview  = overview.strip('[]')\n",
    "    release_date = (df.loc[df['title']==movie]).to_string(header=False,index=False,columns=['release_date'])\n",
    "    formatted_date = pd.to_datetime(release_date).strftime('%d %B %Y')\n",
    "    ratings = (df.loc[df['title']==movie]).to_string(header=False,index=False,columns=['vote_average'])\n",
    "    print(ratings)\n",
    "    return genre,overview,formatted_date,ratings"
   ]
  },
  {
   "cell_type": "code",
   "execution_count": 60,
   "id": "ab6cdbc0",
   "metadata": {},
   "outputs": [
    {
     "name": "stdout",
     "output_type": "stream",
     "text": [
      "Fantasy, Action\n",
      "7.2\n"
     ]
    },
    {
     "data": {
      "text/plain": [
       "('Fantasy, Action',\n",
       " 'Batman must face his most ruthless nemesis when a deformed madman calling himself \"The Joker\" seizes control of Gotham\\'s criminal underworld.',\n",
       " '23 June 1989',\n",
       " '7.2')"
      ]
     },
     "execution_count": 60,
     "metadata": {},
     "output_type": "execute_result"
    }
   ],
   "source": [
    "get_movie_details('Batman (1989)')"
   ]
  },
  {
   "cell_type": "code",
   "execution_count": 82,
   "id": "c5d2cf47",
   "metadata": {},
   "outputs": [],
   "source": [
    "def get_castcrew(movie_id):\n",
    "    response = requests.get('http://api.themoviedb.org/3/movie/{}?api_key=75d6f4d358afd80023fc135735da8af5&append_to_response=credits'.format(movie_id))\n",
    "    data = response.json()\n",
    "    dets =  data['credits']['cast'][0:10]\n",
    "    ids = [i['id'] for i in dets]\n",
    "    details= []\n",
    "    character = [i['character'] for i in dets]\n",
    "    for i in dets:\n",
    "        if type(i) is not None:\n",
    "            poster = [\"https://image.tmdb.org/t/p/original\"+i['profile_path'] for i in dets]\n",
    "\n",
    "        for i in dets:\n",
    "            i['profile_path'] = 'https://encrypted-tbn0.gstatic.com/images?q=tbn:ANd9GcTFXT94RTDPEqHrcC1pVOjBpVUMzQ4dZ3QgOfJWQp2aLSOxEgQGQmu_jsgXu1czdhE1tzo&usqp=CAU'\n",
    "            poster = [\"https://image.tmdb.org/t/p/original\"+i['profile_path'] for i in dets]\n",
    "\n",
    "\n",
    "    for i in ids:\n",
    "        response2 = requests.get('https://api.themoviedb.org/3/person/{}?api_key=75d6f4d358afd80023fc135735da8af5'.format(i))\n",
    "        data2 = response2.json()\n",
    "        details.append(data2)\n",
    "    name = [i['name'] for i in details]\n",
    "\n",
    "    dets = {\"name\":name,\"poster\":poster,\"character\":character}\n",
    "    return poster"
   ]
  },
  {
   "cell_type": "code",
   "execution_count": 97,
   "id": "2b7915b7",
   "metadata": {},
   "outputs": [],
   "source": [
    "API_KEY='75d6f4d358afd80023fc135735da8af5'\n"
   ]
  },
  {
   "cell_type": "code",
   "execution_count": 98,
   "id": "e8b8189f",
   "metadata": {},
   "outputs": [],
   "source": [
    "def get_reviews(movie_id):\n",
    "    reviews = []\n",
    "    details_url = f'https://api.themoviedb.org/3/movie/{movie_id}/reviews?api_key={API_KEY}'\n",
    "    details_response = requests.get(details_url)\n",
    "    details_data = details_response.json()       \n",
    "    num_reviews = min(6, len(details_data['results']))\n",
    "    print(num_reviews) \n",
    "    for i in range(num_reviews):\n",
    "        reviews.append(details_data['results'][i]['content'])\n",
    "    if len(reviews)==0:\n",
    "        return 'No reviews Found'\n",
    "    \n",
    "    rev = np.array(reviews)\n",
    "    n = vectorizer.transform(rev)\n",
    "    sent = sentiment.predict(n)\n",
    "    new_sent = sent.tolist()\n",
    "        \n",
    "    for i in range(len(new_sent)):\n",
    "        if new_sent[i] == 0:\n",
    "            new_sent[i] = 'Negative'\n",
    "        else:\n",
    "            new_sent[i] = 'Positive'\n",
    "                \n",
    "    return reviews, new_sent\n",
    "    "
   ]
  },
  {
   "cell_type": "code",
   "execution_count": 99,
   "id": "62b84b85",
   "metadata": {},
   "outputs": [
    {
     "name": "stdout",
     "output_type": "stream",
     "text": [
      "6\n"
     ]
    },
    {
     "data": {
      "text/plain": [
       "([\"Sam Raimi's Spider-Man captures the spirit of the comic book hero and it's still one of my all time favourite superhero movies. It lays out the perfect blueprint for a superhero origin story that I love revisiting every year or so. I've always been able to relate to Peter Parker growing up. Tobey Maguire and Co. delivered a great interpretation of the characters in a way that still can not be matched.\",\n",
       "  'So many Spiderman movies out there but this will always be the original. Though the other ones have better CGI and maybe action sequences, none can match the plot this one has.',\n",
       "  \"This is one of the few films that you can watch when you're bored and still be excited about what's going to happen (even though you've watched it over and over already and you've memorized almost all of the lines).\",\n",
       "  'I keep telling people that this is the real Spider-Man and I will always stand by that. Tobey Maguire the real MVP!',\n",
       "  'Films from the 2000s really are way different from the ones we have now. I wish all origin stories could be as good as this one.',\n",
       "  'You can take your Tom Holland and Andrew Garfield with you. Tobey Maguire is the best Spider-Man of all time and no amount of CGI can change that!'],\n",
       " ['Positive', 'Negative', 'Negative', 'Positive', 'Negative', 'Positive'])"
      ]
     },
     "execution_count": 99,
     "metadata": {},
     "output_type": "execute_result"
    }
   ],
   "source": [
    "get_reviews(557)"
   ]
  },
  {
   "cell_type": "code",
   "execution_count": 88,
   "id": "1f3503cc",
   "metadata": {},
   "outputs": [],
   "source": [
    "def fetch_poster(movie_id):\n",
    "    response= requests.get('https://api.themoviedb.org/3/movie/{}?api_key=75d6f4d358afd80023fc135735da8af5&language=en-US'.format(movie_id))\n",
    "    data = response.json()\n",
    "    try:\n",
    "        path = 'https://image.tmdb.org/t/p/w500'+data['poster_path']\n",
    "        return path\n",
    "    except:\n",
    "        pth = 'https://img.pikbest.com/backgrounds/20200428/film-and-television-festival-retro-film-poster_2824252.jpg!f305cw'\n",
    "        return pth"
   ]
  },
  {
   "cell_type": "code",
   "execution_count": 89,
   "id": "52203b26",
   "metadata": {},
   "outputs": [],
   "source": [
    "def get_trailer(movie_id):\n",
    "    response = requests.get('http://api.themoviedb.org/3/movie/{}?api_key=75d6f4d358afd80023fc135735da8af5&append_to_response=videos'.format(movie_id))\n",
    "    data = response.json()\n",
    "    try:\n",
    "        key = data['videos']['results']\n",
    "        return key\n",
    "    except:\n",
    "        data['videos']['results'] = 'https://images.wondershare.com/recoverit/article/2020/03/Video_unavailable_Img_1.jpg'\n",
    "        return data['videos']['results']\n"
   ]
  },
  {
   "cell_type": "code",
   "execution_count": 100,
   "id": "5aecd429",
   "metadata": {},
   "outputs": [],
   "source": [
    "def recommend(movie):\n",
    "    movie_index = new_df[new_df['title']==movie].index[0]\n",
    "    distances = similarity[movie_index]\n",
    "    movie_list = sorted(list(enumerate(distances)),reverse=True,key = lambda x:x[1])[1:12]\n",
    "    titles= []\n",
    "    ip_id = (df.loc[df['title']==movie]).to_string(header=False,index=False,columns=['id'])\n",
    "    posters =[fetch_poster(ip_id)]\n",
    "    trailer  = get_trailer(ip_id)\n",
    "    details = get_movie_details(movie)\n",
    "    creds = get_castcrew(ip_id)\n",
    "    reviews = get_reviews(ip_id)\n",
    "    for i in movie_list:\n",
    "        title = new_df.iloc[i[0]].title\n",
    "        movie_id = df.iloc[i[0]].id\n",
    "        titles.append(title)\n",
    "        posters.append(fetch_poster(movie_id))\n",
    "        \n",
    "\n",
    "    return titles\n",
    "\n"
   ]
  },
  {
   "cell_type": "code",
   "execution_count": 103,
   "id": "7cdf7478",
   "metadata": {},
   "outputs": [
    {
     "name": "stdout",
     "output_type": "stream",
     "text": [
      "0\n"
     ]
    },
    {
     "data": {
      "text/plain": [
       "['The Taking of Pelham One Two Three',\n",
       " \"Mother's Day (2010)\",\n",
       " 'I Spit on Your Grave',\n",
       " 'Dead Man Down',\n",
       " 'Gotti',\n",
       " 'Blood Ties',\n",
       " 'Joker',\n",
       " 'Hobo with a Shotgun',\n",
       " 'Texas Killing Fields',\n",
       " 'Funny Games (2007)',\n",
       " 'Tracers']"
      ]
     },
     "execution_count": 103,
     "metadata": {},
     "output_type": "execute_result"
    }
   ],
   "source": [
    "recommend('Batman (1966)')"
   ]
  },
  {
   "cell_type": "code",
   "execution_count": 102,
   "id": "6edcf849",
   "metadata": {},
   "outputs": [],
   "source": [
    "import re"
   ]
  },
  {
   "cell_type": "code",
   "execution_count": null,
   "id": "c5821244",
   "metadata": {},
   "outputs": [],
   "source": [
    "def cast_poster(cast_id):\n",
    "     try:\n",
    "        path = 'https://image.tmdb.org/t/p/w500'+data['poster_path']\n",
    "        return path\n",
    "    except:\n",
    "        pth = 'https://img.pikbest.com/backgrounds/20200428/film-and-television-festival-retro-film-poster_2824252.jpg!f305cw'\n",
    "        return pth"
   ]
  },
  {
   "cell_type": "code",
   "execution_count": null,
   "id": "409f5331",
   "metadata": {},
   "outputs": [],
   "source": [
    "def cast_details(cast):\n",
    "    \n",
    "    response = requests.get('https://api.themoviedb.org/3/search/person?api_key=75d6f4d358afd80023fc135735da8af5&query={}'.format(cast))\n",
    "    data = response.json()\n",
    "    cast_id = data['results'][0]['id']\n",
    "    response2 = requests.get('https://api.themoviedb.org/3/person/{}?api_key=75d6f4d358afd80023fc135735da8af5'.format(cast_id))\n",
    "    data2 = response2.json()\n",
    "    name = data2['name']\n",
    "    bio = data2['biography']\n",
    "    pob = data2['place_of_birth'] \n",
    "    try:\n",
    "    poster ='https://image.tmdb.org/t/p/original'+data2['profile_path']\n",
    "    \n",
    "    dob = data2['birthday']    \n",
    "    \n",
    "    movies_with_actor = main_features[main_features['cast'].apply(lambda x: cast in x)]\n",
    "    movies=movies_with_actor['title']\n",
    "    movie_names = [re.sub(r'^\\d+\\s+', '', movie) for movie in movies]\n",
    "    posters=[]\n",
    "    for movie in movie_names:\n",
    "        ip_id = (new_df.loc[new_df['title']==movie]).to_string(header=False,index=False,columns=['id'])\n",
    "        posters.append(fetch_poster(ip_id))\n",
    "   \n",
    "    return posters"
   ]
  },
  {
   "cell_type": "code",
   "execution_count": null,
   "id": "e216bcd1",
   "metadata": {},
   "outputs": [],
   "source": [
    "cast_details('Paul Dano')"
   ]
  },
  {
   "cell_type": "code",
   "execution_count": null,
   "id": "a81090d4",
   "metadata": {},
   "outputs": [],
   "source": [
    "def get_runtime(movie_id):\n",
    "    details_url = f'https://api.themoviedb.org/3/movie/{movie_id}?api_key=75d6f4d358afd80023fc135735da8af5'\n",
    "    details_response = requests.get(details_url)\n",
    "    details_data = details_response.json()\n",
    "    \n",
    "    if 'runtime' in details_data:\n",
    "        runtime = details_data['runtime']\n",
    "    \n",
    "    return runtime"
   ]
  },
  {
   "cell_type": "code",
   "execution_count": null,
   "id": "ade7407a",
   "metadata": {},
   "outputs": [],
   "source": [
    "ids = df['id']\n",
    "posters = []\n",
    "for i in ids:\n",
    "    posters.append(fetch_poster(i))\n",
    "    \n",
    "posters"
   ]
  },
  {
   "cell_type": "code",
   "execution_count": null,
   "id": "2b947597",
   "metadata": {},
   "outputs": [],
   "source": [
    "posters[1000]"
   ]
  },
  {
   "cell_type": "code",
   "execution_count": null,
   "id": "0a5d21f7",
   "metadata": {},
   "outputs": [],
   "source": [
    "ip_id = (new_df.loc[new_df['title']=='Hidden Kisses']).to_string(header=False,index=True,columns=['id'])\n",
    "ip_id\n"
   ]
  },
  {
   "cell_type": "code",
   "execution_count": null,
   "id": "57316c51",
   "metadata": {},
   "outputs": [],
   "source": []
  },
  {
   "cell_type": "code",
   "execution_count": null,
   "id": "674c324d",
   "metadata": {},
   "outputs": [],
   "source": [
    "fetch_poster(1000)"
   ]
  },
  {
   "cell_type": "code",
   "execution_count": null,
   "id": "4d0ead04",
   "metadata": {},
   "outputs": [],
   "source": [
    "print(posters)"
   ]
  },
  {
   "cell_type": "code",
   "execution_count": null,
   "id": "af0cbb9f",
   "metadata": {},
   "outputs": [],
   "source": [
    "new_df"
   ]
  },
  {
   "cell_type": "code",
   "execution_count": null,
   "id": "a964a437",
   "metadata": {},
   "outputs": [],
   "source": [
    "t = pd.read_csv('TMDB_revised.csv')"
   ]
  },
  {
   "cell_type": "code",
   "execution_count": null,
   "id": "c3bb2588",
   "metadata": {},
   "outputs": [],
   "source": [
    "ndf= t[['id','title','genres','runtime']]"
   ]
  },
  {
   "cell_type": "code",
   "execution_count": null,
   "id": "c5ef1355",
   "metadata": {},
   "outputs": [],
   "source": [
    "ndf[['Changeling']"
   ]
  },
  {
   "cell_type": "code",
   "execution_count": null,
   "id": "a325e989",
   "metadata": {},
   "outputs": [],
   "source": [
    "ndf['posters'] = posters"
   ]
  },
  {
   "cell_type": "code",
   "execution_count": null,
   "id": "1556d48e",
   "metadata": {},
   "outputs": [],
   "source": [
    "ndf"
   ]
  },
  {
   "cell_type": "code",
   "execution_count": null,
   "id": "5315f6ac",
   "metadata": {},
   "outputs": [],
   "source": [
    "ndf.to_csv('Filter.csv')"
   ]
  },
  {
   "cell_type": "code",
   "execution_count": null,
   "id": "e2e9ecfe",
   "metadata": {},
   "outputs": [],
   "source": []
  }
 ],
 "metadata": {
  "kernelspec": {
   "display_name": "Python 3 (ipykernel)",
   "language": "python",
   "name": "python3"
  },
  "language_info": {
   "codemirror_mode": {
    "name": "ipython",
    "version": 3
   },
   "file_extension": ".py",
   "mimetype": "text/x-python",
   "name": "python",
   "nbconvert_exporter": "python",
   "pygments_lexer": "ipython3",
   "version": "3.10.9"
  }
 },
 "nbformat": 4,
 "nbformat_minor": 5
}
